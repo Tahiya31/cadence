{
 "cells": [
  {
   "cell_type": "markdown",
   "metadata": {},
   "source": [
    "## This notebook contains a simple autoencoder to learn the feature representations from a time series and detect changepoint in unsupervised way using mmd scores obtained by comparing the encoded samples. Final Results are reported using AUC score from ROC curve.\n"
   ]
  },
  {
   "cell_type": "code",
   "execution_count": 9,
   "metadata": {},
   "outputs": [],
   "source": [
    "import os\n",
    "import numpy as np\n",
    "import scipy.io as sio\n",
    "import math\n",
    "import torch\n",
    "import torch.nn as nn\n",
    "import torch.utils\n",
    "import torch.utils.data\n",
    "from torchvision import datasets, transforms\n",
    "from torch.autograd import Variable\n",
    "from sklearn.cluster import MiniBatchKMeans, KMeans\n",
    "import sklearn.metrics\n",
    "\n",
    "from torch.utils.tensorboard import SummaryWriter\n",
    "\n",
    "import matplotlib.pyplot as plt \n",
    "import tensorflow as tf\n",
    "\n"
   ]
  },
  {
   "cell_type": "code",
   "execution_count": 10,
   "metadata": {},
   "outputs": [],
   "source": [
    "window_size = 25 ## length of the sliding window to create samples/sequences\n",
    "trn_ratio = 0.60\n",
    "val_ratio = 0.80\n",
    "        "
   ]
  },
  {
   "cell_type": "markdown",
   "metadata": {},
   "source": [
    "## import dataset"
   ]
  },
  {
   "cell_type": "code",
   "execution_count": 11,
   "metadata": {},
   "outputs": [
    {
     "name": "stdout",
     "output_type": "stream",
     "text": [
      "Length of dataset: 1057 Number of variables: 3 First index of validation set: 635 First index of test set: 846\n",
      "number_of_training_samples: 610 number_of_validation_samples: 211 number_of_test_samples: 186\n"
     ]
    }
   ],
   "source": [
    "dataset = sio.loadmat('./beedance/beedance-1.mat')\n",
    "#dataset = sio.loadmat('./yahoo/yahoo-16.mat')\n",
    "#dataset = sio.loadmat('./hasc/hasc-1.mat')\n",
    "#dataset = sio.loadmat('./fishkiller/fishkiller.mat')\n",
    "#dataset = sio.loadmat('./simulation/jumpingmean/seed-10.mat')\n",
    "#dataset = sio.loadmat('./simulation/scalingvariance/seed-10.mat')\n",
    "#dataset = sio.loadmat('./simulation/gmm_v2/seed-1.mat')\n",
    "#dataset = sio.loadmat('./simulation/highdim/d-20_seed-1.mat')\n",
    "#dataset = sio.loadmat('./simulation/changingfrequency/seed-10.mat')\n",
    "#dataset = sio.loadmat('./simulation/switchingcovariance/seed-5.mat')\n",
    "\n",
    "        \n",
    "Y = dataset['Y']                # Y: time series data, time length (T) x number of variables (D) => T x D\n",
    "L = dataset['L']\n",
    "t = np.where(L==1)\n",
    "#print('Labels', t)# L: label of change-point, time length (T) x 1 (labeled by 0 or 1)\n",
    "T, D = Y.shape                  # T: time length; D: number of variables\n",
    "    \n",
    "\n",
    "n_trn = int(np.ceil(T * trn_ratio)) # splitting point between trainset and validation set \n",
    "n_val = int(np.ceil(T * val_ratio))  # splitting point between validation set and test set\n",
    "print('Length of dataset:', T, 'Number of variables:', D, 'First index of validation set:', n_trn, 'First index of test set:', n_val)\n",
    "\n",
    "n_tst = T-window_size\n",
    "#print(n_tst)\n",
    "train_set_idx = range(window_size, n_trn)\n",
    "val_set_idx = range(n_trn, n_val)\n",
    "test_set_idx = range(n_val, n_tst)\n",
    "\n",
    "print('number_of_training_samples:', len(train_set_idx), 'number_of_validation_samples:', len(val_set_idx), 'number_of_test_samples:', len(test_set_idx)) ## number of train samples, number of validation samples, number of test samples"
   ]
  },
  {
   "cell_type": "code",
   "execution_count": 12,
   "metadata": {},
   "outputs": [],
   "source": [
    "## For flattening observations in a single window\n",
    "\n",
    "def flatten(data, idx, window_size, dim):\n",
    "    return data.reshape((len(idx), window_size*D))"
   ]
  },
  {
   "cell_type": "code",
   "execution_count": 13,
   "metadata": {},
   "outputs": [],
   "source": [
    "##creating present past window of observation for comparison to identify changepoint\n",
    "def train_test(idx, window_size, Y, L): \n",
    "    n = len(idx)\n",
    "    #g = n-1\n",
    "    #print(n)\n",
    "    A = torch.zeros((n, D))  \n",
    "    #print(A.size())\n",
    "    B = torch.zeros((n, 1))\n",
    "    #print(B.size())\n",
    "    X_p = torch.zeros((n, window_size, D)) ## past samples sequence set created by sliding window\n",
    "    #print(X_p.size())\n",
    "    X_f = torch.zeros((n, window_size, D)) ## future samples sequence set created by sliding window\n",
    "    #print(X_f.size())\n",
    "    \n",
    "    #data = np.concatenate((self.Y_subspace, self.Y_subspace[-self.f_wnd_dim:, :])\n",
    "    for i in range(n):\n",
    "        l = idx[i] - window_size\n",
    "        #print(l)\n",
    "        m = idx[i]\n",
    "        #print(m)\n",
    "        n = idx[i] + window_size\n",
    "        #print(n)\n",
    "\n",
    "        X_p[i, :, :] = torch.from_numpy(Y[l:m, :])\n",
    "        X_f[i, :, :] = torch.from_numpy(Y[m:n, :])\n",
    "            \n",
    "        A[i, :] = torch.from_numpy(Y[m, :])\n",
    "        \n",
    "        B[i] = torch.from_numpy(L[m])\n",
    "            \n",
    "\n",
    "    #data, future_data, true_data, labels = Variable(X_p), Variable(X_f), Variable(A), Variable(B)\n",
    "    X_p =  flatten(X_p, idx, window_size, D) \n",
    "    X_f =  flatten(X_f, idx, window_size, D)\n",
    "    \n",
    "    data, future_data, true_data, labels = Variable(X_p), Variable(X_f), Variable(A), Variable(B)\n",
    "    \n",
    "    return data, future_data, true_data, labels"
   ]
  },
  {
   "cell_type": "code",
   "execution_count": 14,
   "metadata": {},
   "outputs": [
    {
     "name": "stdout",
     "output_type": "stream",
     "text": [
      "Shape of Sequenced Samples for Training: torch.Size([610, 75])\n",
      "Shape of Sequenced Samples for Validation: torch.Size([211, 75])\n",
      "Shape of Sequenced Samples for Testing: torch.Size([186, 75])\n",
      "Shape of Sequenced Future Samples for Training: torch.Size([610, 75])\n",
      "Shape of Sequenced Future Samples for Validation: torch.Size([211, 75])\n",
      "Shape of Sequenced Future Samples for Testing: torch.Size([186, 75])\n",
      "Shape of Original Train Data: torch.Size([610, 3])\n",
      "Shape of Original Validation Data: torch.Size([211, 3])\n",
      "Shape of Original Test Data: torch.Size([186, 3])\n",
      "Shape of Training Labels: torch.Size([610, 1])\n",
      "Shape of Validation Labels: torch.Size([211, 1])\n",
      "Shape of Testing Labels: torch.Size([186, 1])\n"
     ]
    }
   ],
   "source": [
    "train_dataset, future_train, true_train, labels_train = train_test(train_set_idx, window_size, Y, L)\n",
    "valid_dataset, future_valid, true_valid, labels_valid = train_test(val_set_idx, window_size, Y, L)\n",
    "test_dataset, future_test, true_test, labels_test = train_test(test_set_idx, window_size, Y, L)\n",
    "\n",
    "print('Shape of Sequenced Samples for Training:', train_dataset.size())\n",
    "print('Shape of Sequenced Samples for Validation:', valid_dataset.size())\n",
    "print('Shape of Sequenced Samples for Testing:', test_dataset.size())\n",
    "print('Shape of Sequenced Future Samples for Training:', future_train.size())\n",
    "print('Shape of Sequenced Future Samples for Validation:', future_valid.size())\n",
    "print('Shape of Sequenced Future Samples for Testing:', future_test.size())\n",
    "print('Shape of Original Train Data:', true_train.size())\n",
    "print('Shape of Original Validation Data:', true_valid.size())\n",
    "print('Shape of Original Test Data:', true_test.size())\n",
    "print('Shape of Training Labels:', labels_train.size())\n",
    "print('Shape of Validation Labels:', labels_valid.size())\n",
    "print('Shape of Testing Labels:', labels_test.size())"
   ]
  },
  {
   "cell_type": "code",
   "execution_count": 15,
   "metadata": {},
   "outputs": [],
   "source": [
    "#train_flat = flatten(train_dataset, train_set_idx, window_size, D)\n",
    "#test_flat = flatten(test_dataset, test_set_idx, window_size, D)\n",
    "#print(train_flat.size())\n",
    "#print(test_flat.size())\n",
    "\n"
   ]
  },
  {
   "cell_type": "code",
   "execution_count": 16,
   "metadata": {},
   "outputs": [],
   "source": [
    "# hyperparameters\n",
    "epochs = 100\n",
    "batch_size = 128\n",
    "learning_rate = 1e-5\n",
    "x_dim = 75     ## dimension of input\n",
    "z_dim = 3     ## dimension of latent space\n",
    "seed =100\n",
    "print_every=10\n",
    "save_every=10\n",
    "\n",
    "torch.manual_seed(seed)\n",
    "plt.ion()"
   ]
  },
  {
   "cell_type": "code",
   "execution_count": 17,
   "metadata": {},
   "outputs": [],
   "source": [
    "## Neural Network\n",
    "\n",
    "class encoder (nn.Module):\n",
    "    def __init__(self, x_dim, z_dim):\n",
    "        super(encoder, self).__init__()\n",
    "        self.encoder = nn.Sequential(\n",
    "            nn.Linear(x_dim, 40),  \n",
    "            nn.ReLU(),\n",
    "            nn.Linear(40, 30),     \n",
    "            nn.ReLU(),\n",
    "            nn.Linear(30, 20),     \n",
    "            nn.ReLU(),\n",
    "            nn.Linear(20, z_dim))\n",
    "            \n",
    "    def forward(self, x):\n",
    "        for layer in self.encoder:\n",
    "            x = layer(x)\n",
    "        return x\n",
    "    \n",
    "    \n",
    "class decoder (nn.Module):\n",
    "    def __init__(self, x_dim, z_dim):\n",
    "        super(decoder, self).__init__()\n",
    "        self.decoder = nn.Sequential(\n",
    "            nn.Linear(z_dim, 20),\n",
    "            nn.ReLU(),\n",
    "            nn.Linear(20, 30),\n",
    "            nn.ReLU(),\n",
    "            nn.Linear(30, 40), \n",
    "            nn.ReLU(),\n",
    "            nn.Linear(40, x_dim))\n",
    "        \n",
    "    def forward(self, x):\n",
    "        for layer in self.decoder:\n",
    "            x = layer(x)\n",
    "        return x\n",
    "    \n",
    "    \n",
    "class autoencoder(nn.Module):\n",
    "    def __init__(self, x_dim, z_dim):\n",
    "        super(autoencoder, self). __init__()\n",
    "        self.Encoder = encoder(x_dim, z_dim)\n",
    "        self.Decoder = decoder(x_dim, z_dim)\n",
    "        \n",
    "    def forward(self, x):\n",
    "        z = self.Encoder(x)\n",
    "        x_hat = self.Decoder(z)\n",
    "        \n",
    "        return z, x_hat"
   ]
  },
  {
   "cell_type": "code",
   "execution_count": 18,
   "metadata": {},
   "outputs": [],
   "source": [
    "model = autoencoder(x_dim, z_dim)\n",
    "#z, x_hat = model(Variable(torch.rand(1, 75)))\n",
    "#z.size(), x_hat.size()"
   ]
  },
  {
   "cell_type": "code",
   "execution_count": 19,
   "metadata": {},
   "outputs": [],
   "source": [
    "train_loader = torch.utils.data.DataLoader(train_dataset, batch_size=batch_size, shuffle=False, drop_last = False)\n",
    "valid_loader = torch.utils.data.DataLoader(valid_dataset, batch_size=batch_size, shuffle=False, drop_last = False)\n",
    "test_loader = torch.utils.data.DataLoader(test_dataset, batch_size=batch_size, shuffle=False, drop_last = False)"
   ]
  },
  {
   "cell_type": "code",
   "execution_count": 20,
   "metadata": {},
   "outputs": [],
   "source": [
    "train_loader_future = torch.utils.data.DataLoader(future_train, batch_size=batch_size, shuffle=False, drop_last = False)\n",
    "valid_loader_future = torch.utils.data.DataLoader(future_valid, batch_size=batch_size, shuffle=False, drop_last = False)\n",
    "test_loader_future = torch.utils.data.DataLoader(future_test, batch_size=batch_size, shuffle=False, drop_last = False)"
   ]
  },
  {
   "cell_type": "code",
   "execution_count": 21,
   "metadata": {},
   "outputs": [],
   "source": [
    "labels_loader_train = torch.utils.data.DataLoader(labels_train, batch_size=batch_size, shuffle=False, drop_last = False)\n",
    "labels_loader_valid = torch.utils.data.DataLoader(labels_valid, batch_size=batch_size, shuffle=False, drop_last = False)\n",
    "labels_loader_test= torch.utils.data.DataLoader(labels_test, batch_size=batch_size, shuffle=False, drop_last = False)"
   ]
  },
  {
   "cell_type": "code",
   "execution_count": 22,
   "metadata": {},
   "outputs": [],
   "source": [
    "## RBF kernel computing module\n",
    "\n",
    "def compute_kernel(x, y):\n",
    "    x_size = x.size(0)\n",
    "    y_size = y.size(0)\n",
    "    dim = x.size(1) \n",
    "    \n",
    "    #print('X shape', x.size())\n",
    "    #print('Y shape', y.size())\n",
    "    \n",
    "    #kernel_input = (x - y).pow(2).mean()/float(dim)\n",
    "    kernel_input = (x - y).pow(2).mean(1)/float(dim)\n",
    "    #print('KERNEL:', kernel_input.size())\n",
    "    return torch.exp(-kernel_input)\n",
    "    \n",
    "## computes mmd loss between current and future sample\n",
    "\n",
    "def _mmd_loss(X_p, X_f):        \n",
    "    #X_p, X_f = self._past_future(x)\n",
    "    p_kernel = compute_kernel(X_p, X_p)\n",
    "    #print('P-kernel:', p_kernel)\n",
    "    f_kernel = compute_kernel(X_f,X_f)\n",
    "    #print('F-kernel:', f_kernel.size())\n",
    "    pf_kernel = compute_kernel(X_p,X_f)\n",
    "    #print('PF-kernel:', pf_kernel.size())\n",
    "    mmd = p_kernel + f_kernel - 2*pf_kernel     ## size: batch size\n",
    "    #print('MMD:', mmd.size())\n",
    "    #mmd = -2*pf_kernel\n",
    "    \n",
    "    return mmd\n",
    "\n",
    "\n",
    "##  kmeans_loss computing module\n",
    "\n",
    "def _kmeans_loss(x):\n",
    "    #x = x.reshape(x.size(0), x.size(1) * x.size(2))\n",
    "    #print('encoded dim:', x.size())\n",
    "    x = x.detach().numpy()\n",
    "    #print('encoded dim:', len(x))\n",
    "    kmeans = KMeans(n_clusters = 3, init = 'k-means++').fit(x)\n",
    "    loss = kmeans.inertia_\n",
    "    #print('Loss:', loss)\n",
    "\n",
    "    return loss\n",
    "    \n",
    "    \n",
    "## Validating prediction scores using ground truths\n",
    "\n",
    "def valid_epoch(batch_idx, epoch, labels_pred, labels):\n",
    "    labels_pred = labels_pred.detach().numpy()  ## per sample mmd scores from training\n",
    "    #print(labels_pred.shape)\n",
    "    labels_true = labels.squeeze()             ## training labels\n",
    "    #print(labels.size())\n",
    "    \n",
    "    fp_list, tp_list, thresholds = sklearn.metrics.roc_curve(labels_true, labels_pred)\n",
    "    auc = sklearn.metrics.auc(fp_list, tp_list)\n",
    "    \n",
    "    return auc\n",
    "    \n",
    "    \n"
   ]
  },
  {
   "cell_type": "code",
   "execution_count": 23,
   "metadata": {},
   "outputs": [],
   "source": [
    "# train + validate\n",
    "def train(epoch):\n",
    "    writer = SummaryWriter('ae_runs/train_run50')\n",
    "    total_loss, total_loss_p, total_loss_f, total_loss_k =0, 0, 0, 0\n",
    "    total_mmd = []\n",
    "    for batch_idx, (data, future_data) in enumerate(zip(train_loader, train_loader_future)):\n",
    "        #print('data', data.size())\n",
    "        \n",
    "        optimizer.zero_grad()\n",
    "        z_p, x_hat_p =  model(data)\n",
    "        z_f, x_hat_f = model(future_data)\n",
    "        #print('encoded', z.size())\n",
    "        #print('decoded', x_hat.size())\n",
    "        loss_p = criterion(data, x_hat_p)\n",
    "        loss_f = criterion(future_data, x_hat_f)\n",
    "        #print(loss_p)\n",
    "        mmd = _mmd_loss(z_p, z_f)\n",
    "        #print('MMD:', mmd)\n",
    "        loss_m = mmd.mean()\n",
    "        #loss_k = _kmeans_loss(z_p) + _kmeans_loss(z_f)\n",
    "        #print(loss_k)\n",
    "        #print(loss_k)\n",
    "\n",
    "        #loss = (x_hat - data).pow(2).mean()\n",
    "        #loss = loss_p + loss_f + loss_m + loss_k\n",
    "        loss = loss_p + loss_f + 10*loss_m \n",
    "        \n",
    "        loss.backward()\n",
    "        optimizer.step()\n",
    "        \n",
    "        total_loss_p +=loss_p.data\n",
    "        total_loss_f +=loss_f.data\n",
    "        #total_loss_k += loss_k.data\n",
    "        total_loss +=loss.data\n",
    "        \n",
    "        #print('batch mmd', mmd.size())\n",
    "        total_mmd.append(mmd)\n",
    "        #print('batch_id', batch_idx)\n",
    "    \n",
    "    #print('all_mmd', len(total_mmd))\n",
    "    mmd_score = torch.cat(total_mmd, dim=0)\n",
    "    #print('all_mmd', mmd_score.size())\n",
    "    labels_pred = mmd_score\n",
    "    \n",
    "    auc = valid_epoch(batch_idx, epoch, labels_pred, labels_train)\n",
    "    mmd_mean = mmd_score.mean().detach().numpy()\n",
    "    #print('Train mmd:', mmd_mean)\n",
    "    if epoch % print_every == 1:\n",
    "        print(\"Train Epoch: {} Reconstruction Loss (P) is {:.5f} \\t Reconstruction Loss (F) is {:.5f} \\t Total Loss: {:0.5f} \\t MMD: {:0.5f} \\t AUC: {:.5f}\".format(epoch +1, total_loss_p/len(train_loader.dataset), total_loss_f/len(train_loader.dataset), total_loss/len(train_loader.dataset), mmd_mean, auc))\n",
    "    \n",
    "    #if epoch % print_every == 0:\n",
    "        #print(\"Train Epoch: {} Loss: {:0.5f} \\t MMD: {:0.5f} \\t AUC: {:.5f}\".format(epoch +1, total_loss/len(train_loader.dataset), mmd_mean, auc))\n",
    "    \n",
    "    writer.add_scalar('Rec Loss (Train)', total_loss, epoch)\n",
    "    writer.add_scalar('MMD Score (Train)', mmd_mean, epoch)\n",
    "    writer.add_scalar('Total Loss (Train)', total_loss+mmd_mean , epoch)\n",
    "    writer.add_scalar('AUC Score (Train)', auc, epoch)\n",
    "    writer.close()\n",
    "        \n",
    "\n",
    "def valid(epoch):\n",
    "    writer = SummaryWriter('ae_runs/valid_run51')\n",
    "    total_loss, total_loss_p, total_loss_f, total_loss_k =0, 0, 0, 0\n",
    "    total_mmd = []\n",
    "    for batch_idx, (data, future_valid) in enumerate(zip(valid_loader, valid_loader_future)):\n",
    "        z_p, x_hat_p =  model(data)\n",
    "        z_f, x_hat_f = model(future_valid)\n",
    "        \n",
    "        loss_p = criterion(data, x_hat_p)\n",
    "        loss_f = criterion(future_valid, x_hat_f)\n",
    "        #print(loss_p)\n",
    "        mmd = _mmd_loss(z_p, z_f)\n",
    "        loss_m = mmd.mean()\n",
    "        \n",
    "        #loss_k = _kmeans_loss(z_p) + _kmeans_loss(z_f)\n",
    "        \n",
    "        loss = loss_p + loss_f+10*loss_m\n",
    "        \n",
    "        total_loss_p +=loss_p.data\n",
    "        total_loss_f +=loss_f.data\n",
    "        #total_loss_k += loss_k.data\n",
    "        total_loss += loss.data\n",
    "          \n",
    "        #print(mmd.size())\n",
    "        total_mmd.append(mmd)\n",
    "    \n",
    "    mmd_score = torch.cat(total_mmd, dim=0)\n",
    "    #print(mmd_score.size())\n",
    "    \n",
    "    labels_pred = mmd_score\n",
    "    \n",
    "    auc = valid_epoch(batch_idx, epoch, labels_pred, labels_valid)\n",
    "    mmd_mean = mmd_score.mean().detach().numpy()\n",
    "    #print('Test mmd:', mmd_mean)\n",
    "    \n",
    "    if epoch % print_every == 1:\n",
    "        print(\"Valid Epoch: {} Reconstruction Loss (P) is {:.5f} \\t Reconstruction Loss (F) is {:.5f} \\t  Total Loss: {:0.5f} \\t MMD: {:0.5f} \\t AUC: {:.5f}\".format(epoch +1, total_loss_p/len(valid_loader.dataset), total_loss_f/len(valid_loader.dataset), total_loss/len(valid_loader.dataset), mmd_mean, auc))\n",
    "    \n",
    "    #if epoch % print_every == 0:\n",
    "        #print(\"Valid Epoch: {} Loss: {:0.5f} \\t  \\t MMD: {:0.5f} \\t AUC: {:.5f}\".format(epoch +1, total_loss/len(valid_loader.dataset), mmd_mean, auc))\n",
    "        \n",
    "    writer.add_scalar('Rec Loss (Test)', total_loss, epoch)\n",
    "    writer.add_scalar('MMD Score (Test)', mmd_mean, epoch)\n",
    "    writer.add_scalar('Total Loss (Test)', total_loss+mmd_mean , epoch)\n",
    "    writer.add_scalar('AUC Score (Test)', auc, epoch)\n",
    "    \n",
    "    \n",
    "    writer.close()\n",
    "    \n",
    "    return auc, mmd_mean, total_loss\n"
   ]
  },
  {
   "cell_type": "code",
   "execution_count": 24,
   "metadata": {},
   "outputs": [],
   "source": [
    "model = autoencoder(x_dim, z_dim)\n",
    "criterion = nn.MSELoss()\n",
    "#criterion = nn.KLDivLoss(reduction = 'mean')\n",
    "optimizer = torch.optim.Adam(model.parameters(), lr=learning_rate, weight_decay=1e-5)"
   ]
  },
  {
   "cell_type": "code",
   "execution_count": 25,
   "metadata": {},
   "outputs": [],
   "source": [
    "# load saved model\n",
    "\n",
    "def load_checkpoint(filepath):\n",
    "    checkpoint = torch.load(filepath)\n",
    "    model = checkpoint['model']\n",
    "    model.load_state_dict(checkpoint['state_dict'])\n",
    "    for parameter in model.parameters():\n",
    "        parameter.requires_grad = False\n",
    "\n",
    "    model.eval()\n",
    "    return model"
   ]
  },
  {
   "cell_type": "code",
   "execution_count": 26,
   "metadata": {},
   "outputs": [],
   "source": [
    "# test performance on test set using pretrained network\n",
    "def test(epoch):\n",
    "    writer = SummaryWriter('ae_runs/valid_run52')\n",
    "    total_loss, total_loss_p, total_loss_f, total_loss_k  =0, 0, 0, 0\n",
    "    total_mmd = []\n",
    "    for batch_idx, (data, future_test) in enumerate(zip(test_loader, test_loader_future)):\n",
    "        \n",
    "        #model = load_checkpoint('ae_saves/ae_state_dict_5.pth')\n",
    "        \n",
    "        z_p, x_hat_p =  model(data)\n",
    "        z_f, x_hat_f = model(future_test)\n",
    "        \n",
    "        loss_p = criterion(data, x_hat_p)\n",
    "        loss_f = criterion(future_test, x_hat_f)\n",
    "        mmd = _mmd_loss(z_p, z_f)\n",
    "        loss_m = mmd.mean()\n",
    "        \n",
    "        #loss_k = _kmeans_loss(z_p) + _kmeans_loss(z_f)\n",
    "        \n",
    "        #loss = loss_p + loss_f + loss_m + loss_k\n",
    "        loss = loss_p + loss_f + 10*loss_m\n",
    "        \n",
    "        total_loss_p +=loss_p.data\n",
    "        total_loss_f +=loss_f.data\n",
    "        #total_loss_k += loss_k.data\n",
    "        total_loss +=loss.data\n",
    "          \n",
    "        #print(mmd.size())\n",
    "        total_mmd.append(mmd)\n",
    "    \n",
    "    mmd_score = torch.cat(total_mmd, dim=0)\n",
    "    #print(mmd_score.size())\n",
    "    \n",
    "    labels_pred = mmd_score\n",
    "    \n",
    "    auc = valid_epoch(batch_idx, epoch, labels_pred, labels_test)\n",
    "    mmd_mean = mmd_score.mean().detach().numpy()\n",
    "    #print('Test mmd:', mmd_mean)\n",
    "    \n",
    "    if epoch % print_every == 1:\n",
    "        print(\"Test Loss: {:0.5f} \\t MMD: {:0.5f} \\t AUC: {:.5f}\".format(total_loss/len(test_loader.dataset), mmd_mean, auc))\n",
    "    \n",
    "    writer.add_scalar('Rec Loss (Test)', total_loss, epoch)\n",
    "    writer.add_scalar('MMD Score (Test)', mmd_mean, epoch)\n",
    "    writer.add_scalar('Total Loss (Test)', total_loss+mmd_mean , epoch)\n",
    "    writer.add_scalar('AUC Score (Test)', auc, epoch)\n",
    "    \n",
    "    writer.close()\n",
    "    \n",
    "    return auc, mmd_score, mmd_mean, total_loss\n",
    "\n"
   ]
  },
  {
   "cell_type": "code",
   "execution_count": 27,
   "metadata": {},
   "outputs": [
    {
     "name": "stderr",
     "output_type": "stream",
     "text": [
      "/opt/anaconda3/envs/segmentation/lib/python3.7/site-packages/torch/serialization.py:360: UserWarning: Couldn't retrieve source code for container of type autoencoder. It won't be checked for correctness upon loading.\n",
      "  \"type \" + obj.__name__ + \". It won't be checked \"\n",
      "/opt/anaconda3/envs/segmentation/lib/python3.7/site-packages/torch/serialization.py:360: UserWarning: Couldn't retrieve source code for container of type encoder. It won't be checked for correctness upon loading.\n",
      "  \"type \" + obj.__name__ + \". It won't be checked \"\n",
      "/opt/anaconda3/envs/segmentation/lib/python3.7/site-packages/torch/serialization.py:360: UserWarning: Couldn't retrieve source code for container of type decoder. It won't be checked for correctness upon loading.\n",
      "  \"type \" + obj.__name__ + \". It won't be checked \"\n"
     ]
    },
    {
     "name": "stdout",
     "output_type": "stream",
     "text": [
      "Train Epoch: 2 Reconstruction Loss (P) is 0.00213 \t Reconstruction Loss (F) is 0.00208 \t Total Loss: 0.00421 \t MMD: 0.00002 \t AUC: 0.58780\n",
      "Valid Epoch: 2 Reconstruction Loss (P) is 0.00267 \t Reconstruction Loss (F) is 0.00279 \t  Total Loss: 0.00546 \t MMD: 0.00002 \t AUC: 0.42029\n",
      "Train Epoch: 12 Reconstruction Loss (P) is 0.00211 \t Reconstruction Loss (F) is 0.00206 \t Total Loss: 0.00417 \t MMD: 0.00002 \t AUC: 0.60874\n",
      "Valid Epoch: 12 Reconstruction Loss (P) is 0.00265 \t Reconstruction Loss (F) is 0.00277 \t  Total Loss: 0.00541 \t MMD: 0.00002 \t AUC: 0.39553\n",
      "Train Epoch: 22 Reconstruction Loss (P) is 0.00209 \t Reconstruction Loss (F) is 0.00204 \t Total Loss: 0.00413 \t MMD: 0.00002 \t AUC: 0.61701\n",
      "Valid Epoch: 22 Reconstruction Loss (P) is 0.00262 \t Reconstruction Loss (F) is 0.00274 \t  Total Loss: 0.00537 \t MMD: 0.00002 \t AUC: 0.37319\n",
      "Train Epoch: 32 Reconstruction Loss (P) is 0.00207 \t Reconstruction Loss (F) is 0.00202 \t Total Loss: 0.00410 \t MMD: 0.00002 \t AUC: 0.62134\n",
      "Valid Epoch: 32 Reconstruction Loss (P) is 0.00260 \t Reconstruction Loss (F) is 0.00272 \t  Total Loss: 0.00532 \t MMD: 0.00002 \t AUC: 0.38104\n",
      "Train Epoch: 42 Reconstruction Loss (P) is 0.00205 \t Reconstruction Loss (F) is 0.00201 \t Total Loss: 0.00406 \t MMD: 0.00002 \t AUC: 0.62597\n",
      "Valid Epoch: 42 Reconstruction Loss (P) is 0.00258 \t Reconstruction Loss (F) is 0.00270 \t  Total Loss: 0.00528 \t MMD: 0.00002 \t AUC: 0.40217\n",
      "Train Epoch: 52 Reconstruction Loss (P) is 0.00204 \t Reconstruction Loss (F) is 0.00199 \t Total Loss: 0.00403 \t MMD: 0.00002 \t AUC: 0.63227\n",
      "Valid Epoch: 52 Reconstruction Loss (P) is 0.00256 \t Reconstruction Loss (F) is 0.00267 \t  Total Loss: 0.00523 \t MMD: 0.00002 \t AUC: 0.42512\n",
      "Train Epoch: 62 Reconstruction Loss (P) is 0.00202 \t Reconstruction Loss (F) is 0.00197 \t Total Loss: 0.00399 \t MMD: 0.00002 \t AUC: 0.63864\n",
      "Valid Epoch: 62 Reconstruction Loss (P) is 0.00253 \t Reconstruction Loss (F) is 0.00265 \t  Total Loss: 0.00519 \t MMD: 0.00002 \t AUC: 0.45411\n",
      "Train Epoch: 72 Reconstruction Loss (P) is 0.00200 \t Reconstruction Loss (F) is 0.00195 \t Total Loss: 0.00395 \t MMD: 0.00003 \t AUC: 0.63136\n",
      "Valid Epoch: 72 Reconstruction Loss (P) is 0.00251 \t Reconstruction Loss (F) is 0.00263 \t  Total Loss: 0.00514 \t MMD: 0.00003 \t AUC: 0.48188\n",
      "Train Epoch: 82 Reconstruction Loss (P) is 0.00198 \t Reconstruction Loss (F) is 0.00193 \t Total Loss: 0.00392 \t MMD: 0.00003 \t AUC: 0.62779\n",
      "Valid Epoch: 82 Reconstruction Loss (P) is 0.00249 \t Reconstruction Loss (F) is 0.00261 \t  Total Loss: 0.00510 \t MMD: 0.00003 \t AUC: 0.51389\n",
      "Train Epoch: 92 Reconstruction Loss (P) is 0.00196 \t Reconstruction Loss (F) is 0.00192 \t Total Loss: 0.00388 \t MMD: 0.00003 \t AUC: 0.62483\n",
      "Valid Epoch: 92 Reconstruction Loss (P) is 0.00247 \t Reconstruction Loss (F) is 0.00258 \t  Total Loss: 0.00506 \t MMD: 0.00003 \t AUC: 0.53865\n",
      "Best Epoch: 99 \t Best MMD: 0.00003 \t Best AUC: 0.57367 \n"
     ]
    }
   ],
   "source": [
    "# stopping criteria\n",
    "\n",
    "best_val_auc = -1\n",
    "best_mmd = -1\n",
    "best_epoch = -1\n",
    "\n",
    "for epoch in range(epochs):\n",
    "    #print(epoch)\n",
    "    \n",
    "    #training + validation\n",
    "    train(epoch)\n",
    "    val_auc, mmd, loss = valid(epoch)\n",
    "    #val_auc, mmd_score, mmd, loss = test(epoch)\n",
    "    \n",
    "    if val_auc > best_val_auc:\n",
    "    #if mmd > best_mmd:\n",
    "        best_val_auc = val_auc\n",
    "        best_epoch = epoch\n",
    "        best_mmd = mmd\n",
    "        #saving model\n",
    "        fn = 'ae_saves/ae_state_dict_'+ str(epoch)+'.pth'\n",
    "        checkpoint = { 'model': autoencoder(x_dim, z_dim), 'state_dict': model.state_dict(), 'optimizer' : optimizer.state_dict()}\n",
    "        torch.save(checkpoint, fn)\n",
    "        #print('Saved model to '+ fn)\n",
    "        \n",
    "        \n",
    "print(\"Best Epoch: {} \\t Best MMD: {:.5f} \\t Best AUC: {:.5f} \".format(best_epoch, best_mmd, best_val_auc))\n",
    "        "
   ]
  },
  {
   "cell_type": "code",
   "execution_count": 31,
   "metadata": {},
   "outputs": [
    {
     "name": "stdout",
     "output_type": "stream",
     "text": [
      "Test Loss: 0.00776 \t MMD: 0.00004 \t AUC: 0.76580\n"
     ]
    }
   ],
   "source": [
    "auc, mmd_score, mmd_mean, total_loss = test(1)"
   ]
  },
  {
   "cell_type": "markdown",
   "metadata": {},
   "source": [
    "## plotting change point scores with groundtruths"
   ]
  },
  {
   "cell_type": "code",
   "execution_count": 32,
   "metadata": {},
   "outputs": [
    {
     "name": "stdout",
     "output_type": "stream",
     "text": [
      "Test Loss: 0.00776 \t MMD: 0.00004 \t AUC: 0.76580\n",
      "Accuracy: {:.5f} 0.7657967032967032\n",
      "MMD scores: torch.Size([186])\n"
     ]
    }
   ],
   "source": [
    "acc, mmd, _, _ = test(1)\n",
    "print('Accuracy: {:.5f}', acc )\n",
    "print('MMD scores:', mmd.size())"
   ]
  },
  {
   "cell_type": "code",
   "execution_count": 33,
   "metadata": {},
   "outputs": [
    {
     "name": "stdout",
     "output_type": "stream",
     "text": [
      "[ 45  98 139 183]\n"
     ]
    }
   ],
   "source": [
    "marker = np.where(labels_test ==1)\n",
    "print(marker[0])"
   ]
  },
  {
   "cell_type": "markdown",
   "metadata": {},
   "source": [
    "## Fishkiller"
   ]
  },
  {
   "cell_type": "code",
   "execution_count": 29,
   "metadata": {},
   "outputs": [
    {
     "data": {
      "image/png": "[encoded data removed]",
      "text/plain": [
       "<Figure size 1080x648 with 2 Axes>"
      ]
     },
     "metadata": {
      "needs_background": "light"
     },
     "output_type": "display_data"
    }
   ],
   "source": [
    "## for one-dimension data - fishkiller and yahoo\n",
    "##plotting MMD scores per time points for test set\n",
    "time = range (36140, 45170) ##fishkiller\n",
    "\n",
    "fig = plt.figure(figsize = (15, 9))\n",
    "\n",
    "ax1 = fig.add_subplot(211)\n",
    "ax1.plot(true_test[:, 0], color = 'g')\n",
    "for xc in marker[0]:\n",
    "    ax1.axvline(x=xc,  color = 'r', linestyle = '--')\n",
    "ax1.set_ylabel('x')\n",
    "\n",
    "\n",
    "ax4 = fig.add_subplot(212)\n",
    "ax4.plot(mmd[0:6000], '-', color = 'b')\n",
    "#for xc in marker[0]:\n",
    "    #ax4.axvline(x=xc,  color = 'r', linestyle = '--')\n",
    "ax4.set_ylabel('Change point scores')\n",
    "\n",
    "#plt.axvspan(0, 45, facecolor='#ffcccb', alpha=0.5)\n",
    "#plt.axvspan(45, 98, facecolor='#add8e6', alpha=0.5)\n",
    "#plt.axvspan(98, 139, facecolor='#ffcccb', alpha=0.5)\n",
    "#plt.axvspan(139, 183, facecolor='#add8e6', alpha=0.5)\n",
    "\n",
    "plt.xlabel('Time')\n",
    "\n",
    "plt.savefig('./figures/Predicted change point scores_fishkiller.eps')\n",
    "plt.show()"
   ]
  },
  {
   "cell_type": "markdown",
   "metadata": {},
   "source": [
    "## Beedance"
   ]
  },
  {
   "cell_type": "code",
   "execution_count": null,
   "metadata": {},
   "outputs": [],
   "source": [
    "##plotting MMD scores per time points for test set - HASC and beedance \n",
    "time = range (846, 1032)  ##beedance\n",
    "\n",
    "fig = plt.figure(figsize = (9, 9))\n",
    "\n",
    "ax1 = fig.add_subplot(411)\n",
    "ax1.plot(true_test[:, 0], color = 'g')\n",
    "for xc in marker[0]:\n",
    "    ax1.axvline(x=xc,  color = 'r', linestyle = '--')\n",
    "ax1.set_ylabel('x')\n",
    "\n",
    "ax2 = fig.add_subplot(412)\n",
    "ax2.plot(true_test[:, 1], color = 'b')\n",
    "for xc in marker[0]:\n",
    "    ax2.axvline(x=xc,  color = 'r', linestyle = '--')\n",
    "ax2.set_ylabel('y')\n",
    "\n",
    "ax3 =fig.add_subplot(413)\n",
    "ax3.plot(true_test[:, 2], color = 'c')\n",
    "for xc in marker[0]:\n",
    "    ax3.axvline(x=xc,  color = 'r', linestyle = '--')\n",
    "ax3.set_ylabel('theta')\n",
    "\n",
    "ax4 = fig.add_subplot(414)\n",
    "ax4.plot(mmd, '-', color = 'k')\n",
    "for xc in marker[0]:\n",
    "    ax4.axvline(x=xc,  color = 'r', linestyle = '--')\n",
    "ax4.set_ylabel('Change point scores')\n",
    "\n",
    "plt.axvspan(0, 45, facecolor='#ffcccb', alpha=0.5)\n",
    "plt.axvspan(45, 98, facecolor='#add8e6', alpha=0.5)\n",
    "plt.axvspan(98, 139, facecolor='#ffcccb', alpha=0.5)\n",
    "plt.axvspan(139, 183, facecolor='#add8e6', alpha=0.5)\n",
    "\n",
    "plt.xlabel('Time')\n",
    "\n",
    "plt.savefig('./figures/Predicted change point scores_beedance.eps')\n",
    "plt.show()"
   ]
  },
  {
   "cell_type": "markdown",
   "metadata": {},
   "source": [
    "## HASC"
   ]
  },
  {
   "cell_type": "code",
   "execution_count": null,
   "metadata": {},
   "outputs": [],
   "source": [
    "##hasc\n",
    "\n",
    "fig = plt.figure(figsize = (9, 9))\n",
    "\n",
    "ax1 = fig.add_subplot(411)\n",
    "ax1.plot(true_test[:, 0], color = 'g')\n",
    "for xc in marker[0]:\n",
    "    ax1.axvline(x=xc,  color = 'r', linestyle = '--')\n",
    "ax1.set_ylabel('x')\n",
    "\n",
    "ax2 = fig.add_subplot(412)\n",
    "ax2.plot(true_test[:, 1], color = 'b')\n",
    "for xc in marker[0]:\n",
    "    ax2.axvline(x=xc,  color = 'r', linestyle = '--')\n",
    "ax2.set_ylabel('y')\n",
    "\n",
    "ax3 =fig.add_subplot(413)\n",
    "ax3.plot(true_test[:, 2], color = 'c')\n",
    "for xc in marker[0]:\n",
    "    ax3.axvline(x=xc,  color = 'r', linestyle = '--')\n",
    "ax3.set_ylabel('z')\n",
    "\n",
    "ax4 = fig.add_subplot(414)\n",
    "ax4.plot(mmd, '-', color = 'k')\n",
    "for xc in marker[0]:\n",
    "    ax4.axvline(x=xc,  color = 'r', linestyle = '--')\n",
    "ax4.set_ylabel('Change point scores')\n",
    "\n",
    "plt.axvspan(0, 1893, facecolor='#ffcccb', alpha=0.5)\n",
    "plt.axvspan(1893, 2048, facecolor='#add8e6', alpha=0.5)\n",
    "plt.axvspan(2048, 2178 , facecolor='#ffcccb', alpha=0.5)\n",
    "plt.axvspan(2178, 2514 , facecolor='#add8e6', alpha=0.5)\n",
    "plt.axvspan(2514, 2746, facecolor='#ffcccb', alpha=0.5)\n",
    "plt.axvspan(2746, 3813, facecolor='#add8e6', alpha=0.5)\n",
    "plt.axvspan(3813, 4010 , facecolor='#ffcccb', alpha=0.5)\n",
    "plt.axvspan(4010, 5874 , facecolor='#add8e6', alpha=0.5)\n",
    "plt.axvspan(5874, 5992 , facecolor='#ffcccb', alpha=0.5)\n",
    "plt.axvspan(5992, 6268 , facecolor='#add8e6', alpha=0.5)\n",
    "plt.axvspan(6268, 6925, facecolor='#ffcccb', alpha=0.5)\n",
    "plt.axvspan(6925, 7854 , facecolor='#add8e6', alpha=0.5)\n",
    "\n",
    "\n",
    "plt.xlabel('Time')\n",
    "\n",
    "plt.savefig('./figures/Predicted change point scores_hasc.eps')\n",
    "plt.show()"
   ]
  },
  {
   "cell_type": "markdown",
   "metadata": {},
   "source": [
    "## Tensorboard loss visualization"
   ]
  },
  {
   "cell_type": "code",
   "execution_count": 24,
   "metadata": {},
   "outputs": [
    {
     "name": "stdout",
     "output_type": "stream",
     "text": [
      "Serving TensorBoard on localhost; to expose to the network, use a proxy or pass --bind_all\n",
      "TensorBoard 2.0.0 at http://localhost:6006/ (Press CTRL+C to quit)\n",
      "^C\n"
     ]
    }
   ],
   "source": [
    "!tensorboard --logdir ae_runs/train_run50"
   ]
  },
  {
   "cell_type": "code",
   "execution_count": 25,
   "metadata": {},
   "outputs": [
    {
     "name": "stdout",
     "output_type": "stream",
     "text": [
      "Serving TensorBoard on localhost; to expose to the network, use a proxy or pass --bind_all\n",
      "TensorBoard 2.0.0 at http://localhost:6006/ (Press CTRL+C to quit)\n",
      "^C\n"
     ]
    }
   ],
   "source": [
    "!tensorboard --logdir ae_runs/valid_run52"
   ]
  },
  {
   "cell_type": "code",
   "execution_count": null,
   "metadata": {},
   "outputs": [],
   "source": []
  }
 ],
 "metadata": {
  "kernelspec": {
   "display_name": "Python [conda env:segmentation] *",
   "language": "python",
   "name": "conda-env-segmentation-py"
  },
  "language_info": {
   "codemirror_mode": {
    "name": "ipython",
    "version": 3
   },
   "file_extension": ".py",
   "mimetype": "text/x-python",
   "name": "python",
   "nbconvert_exporter": "python",
   "pygments_lexer": "ipython3",
   "version": "3.7.6"
  }
 },
 "nbformat": 4,
 "nbformat_minor": 4
}
