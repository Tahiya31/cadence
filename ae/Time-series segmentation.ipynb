{
 "cells": [
  {
   "cell_type": "code",
   "execution_count": 13,
   "metadata": {},
   "outputs": [],
   "source": [
    "from keras.layers import Input, Dense\n",
    "\n",
    "import pandas as pd\n",
    "import numpy as np\n",
    "import matplotlib.pyplot as plt"
   ]
  },
  {
   "cell_type": "code",
   "execution_count": 14,
   "metadata": {},
   "outputs": [],
   "source": [
    "from keras.models import Model"
   ]
  },
  {
   "cell_type": "code",
   "execution_count": 15,
   "metadata": {},
   "outputs": [],
   "source": [
    "# this is the size of our encoded representations\n",
    "encoding_dim = 32  # 32 floats -> compression of factor 24.5, assuming the input is 784 floats\n",
    "\n",
    "# this is our input placeholder\n",
    "input_img = Input(shape=(784,))\n",
    "\n",
    "# \"encoded\" is the encoded representation of the input\n",
    "encoded = Dense(encoding_dim, activation='relu')(input_img)\n",
    "\n",
    "# \"decoded\" is the lossy reconstruction of the input\n",
    "decoded = Dense(784, activation='sigmoid')(encoded)\n",
    "\n",
    "# this model maps an input to its reconstruction\n",
    "autoencoder = Model(input_img, decoded)\n",
    "\n",
    "#encoded = Dense(128, activation='relu')(input_img)\n",
    "#encoded = Dense(64, activation='relu')(encoded)\n",
    "#encoded = Dense(32, activation='relu')(encoded)\n",
    "\n",
    "#decoded = Dense(64, activation='relu')(encoded)\n",
    "#decoded = Dense(128, activation='relu')(decoded)\n",
    "#decoded = Dense(784, activation='sigmoid')(decoded)"
   ]
  },
  {
   "cell_type": "code",
   "execution_count": 16,
   "metadata": {},
   "outputs": [],
   "source": [
    "# this model maps an input to its encoded representation\n",
    "encoder = Model(input_img, encoded)"
   ]
  },
  {
   "cell_type": "code",
   "execution_count": 17,
   "metadata": {},
   "outputs": [],
   "source": [
    "# create a placeholder for an encoded (32-dimensional) input\n",
    "encoded_input = Input(shape=(encoding_dim,))\n",
    "\n",
    "# retrieve the last layer of the autoencoder model\n",
    "decoder_layer = autoencoder.layers[-1]\n",
    "\n",
    "# create the decoder model\n",
    "decoder = Model(encoded_input, decoder_layer(encoded_input))"
   ]
  },
  {
   "cell_type": "code",
   "execution_count": 18,
   "metadata": {},
   "outputs": [],
   "source": [
    "autoencoder.compile(optimizer='adadelta', loss='binary_crossentropy')"
   ]
  },
  {
   "cell_type": "code",
   "execution_count": 19,
   "metadata": {},
   "outputs": [],
   "source": [
    "from keras.datasets import mnist\n",
    "import numpy as np\n",
    "(x_train, _), (x_test, _) = mnist.load_data()"
   ]
  },
  {
   "cell_type": "code",
   "execution_count": 20,
   "metadata": {},
   "outputs": [
    {
     "name": "stdout",
     "output_type": "stream",
     "text": [
      "(60000, 784)\n",
      "(10000, 784)\n"
     ]
    }
   ],
   "source": [
    "x_train = x_train.astype('float32') / 255.\n",
    "x_test = x_test.astype('float32') / 255.\n",
    "x_train = x_train.reshape((len(x_train), np.prod(x_train.shape[1:])))\n",
    "x_test = x_test.reshape((len(x_test), np.prod(x_test.shape[1:])))\n",
    "print x_train.shape\n",
    "print x_test.shape"
   ]
  },
  {
   "cell_type": "code",
   "execution_count": 21,
   "metadata": {},
   "outputs": [
    {
     "name": "stdout",
     "output_type": "stream",
     "text": [
      "Train on 60000 samples, validate on 10000 samples\n",
      "Epoch 1/50\n",
      "60000/60000 [==============================] - 3s 53us/step - loss: 0.3625 - val_loss: 0.2731\n",
      "Epoch 2/50\n",
      "60000/60000 [==============================] - 3s 50us/step - loss: 0.2678 - val_loss: 0.2595\n",
      "Epoch 3/50\n",
      "60000/60000 [==============================] - 3s 46us/step - loss: 0.2497 - val_loss: 0.2372\n",
      "Epoch 4/50\n",
      "60000/60000 [==============================] - 3s 47us/step - loss: 0.2280 - val_loss: 0.2173\n",
      "Epoch 5/50\n",
      "60000/60000 [==============================] - 3s 54us/step - loss: 0.2118 - val_loss: 0.2041\n",
      "Epoch 6/50\n",
      "60000/60000 [==============================] - 3s 52us/step - loss: 0.2009 - val_loss: 0.1949\n",
      "Epoch 7/50\n",
      "60000/60000 [==============================] - 4s 59us/step - loss: 0.1925 - val_loss: 0.1875\n",
      "Epoch 8/50\n",
      "60000/60000 [==============================] - 3s 47us/step - loss: 0.1854 - val_loss: 0.1806\n",
      "Epoch 9/50\n",
      "60000/60000 [==============================] - 4s 65us/step - loss: 0.1790 - val_loss: 0.1744\n",
      "Epoch 10/50\n",
      "60000/60000 [==============================] - 4s 68us/step - loss: 0.1732 - val_loss: 0.1689\n",
      "Epoch 11/50\n",
      "60000/60000 [==============================] - 4s 60us/step - loss: 0.1680 - val_loss: 0.1640\n",
      "Epoch 12/50\n",
      "60000/60000 [==============================] - 3s 57us/step - loss: 0.1633 - val_loss: 0.1597\n",
      "Epoch 13/50\n",
      "60000/60000 [==============================] - 3s 52us/step - loss: 0.1591 - val_loss: 0.1557\n",
      "Epoch 14/50\n",
      "60000/60000 [==============================] - 3s 50us/step - loss: 0.1554 - val_loss: 0.1520\n",
      "Epoch 15/50\n",
      "60000/60000 [==============================] - 3s 51us/step - loss: 0.1520 - val_loss: 0.1488\n",
      "Epoch 16/50\n",
      "60000/60000 [==============================] - 3s 51us/step - loss: 0.1489 - val_loss: 0.1459\n",
      "Epoch 17/50\n",
      "60000/60000 [==============================] - 3s 56us/step - loss: 0.1461 - val_loss: 0.1432\n",
      "Epoch 18/50\n",
      "60000/60000 [==============================] - 3s 52us/step - loss: 0.1435 - val_loss: 0.1407\n",
      "Epoch 19/50\n",
      "60000/60000 [==============================] - 3s 52us/step - loss: 0.1411 - val_loss: 0.1384\n",
      "Epoch 20/50\n",
      "60000/60000 [==============================] - 3s 48us/step - loss: 0.1388 - val_loss: 0.1362\n",
      "Epoch 21/50\n",
      "60000/60000 [==============================] - 3s 44us/step - loss: 0.1367 - val_loss: 0.1340\n",
      "Epoch 22/50\n",
      "60000/60000 [==============================] - 3s 47us/step - loss: 0.1346 - val_loss: 0.1322\n",
      "Epoch 23/50\n",
      "60000/60000 [==============================] - 3s 52us/step - loss: 0.1327 - val_loss: 0.1302\n",
      "Epoch 24/50\n",
      "60000/60000 [==============================] - 3s 54us/step - loss: 0.1308 - val_loss: 0.1282\n",
      "Epoch 25/50\n",
      "60000/60000 [==============================] - 3s 56us/step - loss: 0.1289 - val_loss: 0.1265\n",
      "Epoch 26/50\n",
      "60000/60000 [==============================] - 3s 51us/step - loss: 0.1272 - val_loss: 0.1248\n",
      "Epoch 27/50\n",
      "60000/60000 [==============================] - 3s 53us/step - loss: 0.1255 - val_loss: 0.1231\n",
      "Epoch 28/50\n",
      "60000/60000 [==============================] - 3s 45us/step - loss: 0.1239 - val_loss: 0.1215\n",
      "Epoch 29/50\n",
      "60000/60000 [==============================] - 3s 46us/step - loss: 0.1224 - val_loss: 0.1202\n",
      "Epoch 30/50\n",
      "60000/60000 [==============================] - 3s 46us/step - loss: 0.1210 - val_loss: 0.1188\n",
      "Epoch 31/50\n",
      "60000/60000 [==============================] - 3s 46us/step - loss: 0.1196 - val_loss: 0.1174\n",
      "Epoch 32/50\n",
      "60000/60000 [==============================] - 3s 46us/step - loss: 0.1184 - val_loss: 0.1163\n",
      "Epoch 33/50\n",
      "60000/60000 [==============================] - 3s 45us/step - loss: 0.1172 - val_loss: 0.1151\n",
      "Epoch 34/50\n",
      "60000/60000 [==============================] - 3s 46us/step - loss: 0.1162 - val_loss: 0.1140\n",
      "Epoch 35/50\n",
      "60000/60000 [==============================] - 3s 46us/step - loss: 0.1151 - val_loss: 0.1131\n",
      "Epoch 36/50\n",
      "60000/60000 [==============================] - 3s 50us/step - loss: 0.1142 - val_loss: 0.1121\n",
      "Epoch 37/50\n",
      "60000/60000 [==============================] - 3s 48us/step - loss: 0.1133 - val_loss: 0.1113\n",
      "Epoch 38/50\n",
      "60000/60000 [==============================] - 3s 46us/step - loss: 0.1125 - val_loss: 0.1106\n",
      "Epoch 39/50\n",
      "60000/60000 [==============================] - 3s 53us/step - loss: 0.1118 - val_loss: 0.1098\n",
      "Epoch 40/50\n",
      "60000/60000 [==============================] - 3s 49us/step - loss: 0.1111 - val_loss: 0.1091\n",
      "Epoch 41/50\n",
      "60000/60000 [==============================] - 3s 52us/step - loss: 0.1104 - val_loss: 0.1085\n",
      "Epoch 42/50\n",
      "60000/60000 [==============================] - 3s 50us/step - loss: 0.1098 - val_loss: 0.1079\n",
      "Epoch 43/50\n",
      "60000/60000 [==============================] - 3s 50us/step - loss: 0.1093 - val_loss: 0.1074\n",
      "Epoch 44/50\n",
      "60000/60000 [==============================] - 3s 47us/step - loss: 0.1087 - val_loss: 0.1068\n",
      "Epoch 45/50\n",
      "60000/60000 [==============================] - 3s 49us/step - loss: 0.1082 - val_loss: 0.1064\n",
      "Epoch 46/50\n",
      "60000/60000 [==============================] - 3s 51us/step - loss: 0.1078 - val_loss: 0.1059\n",
      "Epoch 47/50\n",
      "60000/60000 [==============================] - 3s 47us/step - loss: 0.1073 - val_loss: 0.1055\n",
      "Epoch 48/50\n",
      "60000/60000 [==============================] - 3s 43us/step - loss: 0.1069 - val_loss: 0.1050\n",
      "Epoch 49/50\n",
      "60000/60000 [==============================] - 3s 51us/step - loss: 0.1065 - val_loss: 0.1047\n",
      "Epoch 50/50\n",
      "60000/60000 [==============================] - 3s 45us/step - loss: 0.1061 - val_loss: 0.1043\n"
     ]
    },
    {
     "data": {
      "text/plain": [
       "<keras.callbacks.History at 0xb30852a90>"
      ]
     },
     "execution_count": 21,
     "metadata": {},
     "output_type": "execute_result"
    }
   ],
   "source": [
    "autoencoder.fit(x_train, x_train,\n",
    "                epochs=50,\n",
    "                batch_size=256,\n",
    "                shuffle=True,\n",
    "                validation_data=(x_test, x_test))"
   ]
  },
  {
   "cell_type": "code",
   "execution_count": 22,
   "metadata": {},
   "outputs": [],
   "source": [
    "encoded_imgs = encoder.predict(x_test)"
   ]
  },
  {
   "cell_type": "code",
   "execution_count": 23,
   "metadata": {},
   "outputs": [],
   "source": [
    "decoded_imgs = decoder.predict(encoded_imgs)"
   ]
  },
  {
   "cell_type": "code",
   "execution_count": 24,
   "metadata": {},
   "outputs": [
    {
     "data": {
      "text/plain": [
       "<Figure size 1440x288 with 0 Axes>"
      ]
     },
     "execution_count": 24,
     "metadata": {},
     "output_type": "execute_result"
    },
    {
     "data": {
      "text/plain": [
       "<Figure size 1440x288 with 0 Axes>"
      ]
     },
     "metadata": {},
     "output_type": "display_data"
    }
   ],
   "source": [
    "import matplotlib.pyplot as plt\n",
    "\n",
    "n = 20  # how many digits we will display\n",
    "\n",
    "plt.figure(figsize=(20, 4))\n"
   ]
  },
  {
   "cell_type": "code",
   "execution_count": 25,
   "metadata": {},
   "outputs": [
    {
     "data": {
      "image/png": "[encoded data removed]",
      "text/plain": [
       "<Figure size 432x288 with 40 Axes>"
      ]
     },
     "metadata": {},
     "output_type": "display_data"
    }
   ],
   "source": [
    "for i in range(n):\n",
    "    # display original\n",
    "    ax = plt.subplot(2, n, i + 1)\n",
    "    plt.imshow(x_test[i].reshape(28, 28))\n",
    "    plt.gray()\n",
    "    ax.get_xaxis().set_visible(False)\n",
    "    ax.get_yaxis().set_visible(False)\n",
    "\n",
    "    \n",
    "    \n",
    "    # display reconstruction\n",
    "    ax = plt.subplot(2, n, i + 1 + n)\n",
    "    plt.imshow(decoded_imgs[i].reshape(28, 28))\n",
    "    plt.gray()\n",
    "    ax.get_xaxis().set_visible(False)\n",
    "    ax.get_yaxis().set_visible(False)\n",
    "plt.show()"
   ]
  },
  {
   "cell_type": "code",
   "execution_count": 26,
   "metadata": {},
   "outputs": [],
   "source": [
    "## Data preprocessing\n",
    "\n",
    "import pandas as pd\n",
    "import numpy as np\n",
    "import matplotlib.pyplot as plt"
   ]
  },
  {
   "cell_type": "code",
   "execution_count": 27,
   "metadata": {},
   "outputs": [],
   "source": [
    "md_1 = pd.read_csv('/Users/tahiyachowdhury/Desktop/practicepython/Datasets/Elevator-Escalator/csv-segments/Interval Labels/0_IntervalLabel-352622063881655_1463620885782.csv', usecols = ['start', 'end', 'label'])"
   ]
  },
  {
   "cell_type": "code",
   "execution_count": 28,
   "metadata": {},
   "outputs": [],
   "source": [
    "md_1 = pd.DataFrame(md_1)"
   ]
  },
  {
   "cell_type": "code",
   "execution_count": 29,
   "metadata": {},
   "outputs": [
    {
     "data": {
      "text/html": [
       "<div>\n",
       "<style scoped>\n",
       "    .dataframe tbody tr th:only-of-type {\n",
       "        vertical-align: middle;\n",
       "    }\n",
       "\n",
       "    .dataframe tbody tr th {\n",
       "        vertical-align: top;\n",
       "    }\n",
       "\n",
       "    .dataframe thead th {\n",
       "        text-align: right;\n",
       "    }\n",
       "</style>\n",
       "<table border=\"1\" class=\"dataframe\">\n",
       "  <thead>\n",
       "    <tr style=\"text-align: right;\">\n",
       "      <th></th>\n",
       "      <th>start</th>\n",
       "      <th>end</th>\n",
       "      <th>label</th>\n",
       "    </tr>\n",
       "  </thead>\n",
       "  <tbody>\n",
       "    <tr>\n",
       "      <th>0</th>\n",
       "      <td>1463620829317000000</td>\n",
       "      <td>1463620884043000000</td>\n",
       "      <td>Standing</td>\n",
       "    </tr>\n",
       "    <tr>\n",
       "      <th>1</th>\n",
       "      <td>1463620762596000000</td>\n",
       "      <td>1463620826401000000</td>\n",
       "      <td>Walking</td>\n",
       "    </tr>\n",
       "    <tr>\n",
       "      <th>2</th>\n",
       "      <td>1463620891851000000</td>\n",
       "      <td>1463620917543000000</td>\n",
       "      <td>Walking</td>\n",
       "    </tr>\n",
       "    <tr>\n",
       "      <th>3</th>\n",
       "      <td>1463620924518000000</td>\n",
       "      <td>1463620972530000000</td>\n",
       "      <td>Escalator</td>\n",
       "    </tr>\n",
       "    <tr>\n",
       "      <th>4</th>\n",
       "      <td>1463620976355000000</td>\n",
       "      <td>1463620987050000000</td>\n",
       "      <td>Walking</td>\n",
       "    </tr>\n",
       "  </tbody>\n",
       "</table>\n",
       "</div>"
      ],
      "text/plain": [
       "                 start                  end      label\n",
       "0  1463620829317000000  1463620884043000000   Standing\n",
       "1  1463620762596000000  1463620826401000000    Walking\n",
       "2  1463620891851000000  1463620917543000000    Walking\n",
       "3  1463620924518000000  1463620972530000000  Escalator\n",
       "4  1463620976355000000  1463620987050000000    Walking"
      ]
     },
     "execution_count": 29,
     "metadata": {},
     "output_type": "execute_result"
    }
   ],
   "source": [
    "md_1.head()"
   ]
  },
  {
   "cell_type": "code",
   "execution_count": 30,
   "metadata": {},
   "outputs": [],
   "source": [
    "md_2= pd.read_csv('/Users/tahiyachowdhury/Desktop/practicepython/Datasets/Elevator-Escalator/csv-segments/Interval Labels/0_IntervalLabel-352622063881655_1463621042748.csv', usecols = ['start', 'end', 'label'])\n",
    "md_2 = pd.DataFrame(md_2)"
   ]
  },
  {
   "cell_type": "code",
   "execution_count": 31,
   "metadata": {},
   "outputs": [
    {
     "data": {
      "text/html": [
       "<div>\n",
       "<style scoped>\n",
       "    .dataframe tbody tr th:only-of-type {\n",
       "        vertical-align: middle;\n",
       "    }\n",
       "\n",
       "    .dataframe tbody tr th {\n",
       "        vertical-align: top;\n",
       "    }\n",
       "\n",
       "    .dataframe thead th {\n",
       "        text-align: right;\n",
       "    }\n",
       "</style>\n",
       "<table border=\"1\" class=\"dataframe\">\n",
       "  <thead>\n",
       "    <tr style=\"text-align: right;\">\n",
       "      <th></th>\n",
       "      <th>start</th>\n",
       "      <th>end</th>\n",
       "      <th>label</th>\n",
       "    </tr>\n",
       "  </thead>\n",
       "  <tbody>\n",
       "    <tr>\n",
       "      <th>0</th>\n",
       "      <td>1463621119494000000</td>\n",
       "      <td>1463621167984000000</td>\n",
       "      <td>Escalator</td>\n",
       "    </tr>\n",
       "    <tr>\n",
       "      <th>1</th>\n",
       "      <td>1463621171675000000</td>\n",
       "      <td>1463621188372000000</td>\n",
       "      <td>Walking</td>\n",
       "    </tr>\n",
       "    <tr>\n",
       "      <th>2</th>\n",
       "      <td>1463621191659000000</td>\n",
       "      <td>1463621239025000000</td>\n",
       "      <td>Escalator</td>\n",
       "    </tr>\n",
       "    <tr>\n",
       "      <th>3</th>\n",
       "      <td>1463621243056000000</td>\n",
       "      <td>1463621255284000000</td>\n",
       "      <td>Walking</td>\n",
       "    </tr>\n",
       "  </tbody>\n",
       "</table>\n",
       "</div>"
      ],
      "text/plain": [
       "                 start                  end      label\n",
       "0  1463621119494000000  1463621167984000000  Escalator\n",
       "1  1463621171675000000  1463621188372000000    Walking\n",
       "2  1463621191659000000  1463621239025000000  Escalator\n",
       "3  1463621243056000000  1463621255284000000    Walking"
      ]
     },
     "execution_count": 31,
     "metadata": {},
     "output_type": "execute_result"
    }
   ],
   "source": [
    "md_3 = pd.read_csv('/Users/tahiyachowdhury/Desktop/practicepython/Datasets/Elevator-Escalator/csv-segments/Interval Labels/0_IntervalLabel-352622063881655_1463621169311.csv', usecols = ['start', 'end', 'label'])\n",
    "md_3 = pd.DataFrame(md_3)\n",
    "md_3.head()"
   ]
  },
  {
   "cell_type": "code",
   "execution_count": 32,
   "metadata": {},
   "outputs": [
    {
     "data": {
      "text/html": [
       "<div>\n",
       "<style scoped>\n",
       "    .dataframe tbody tr th:only-of-type {\n",
       "        vertical-align: middle;\n",
       "    }\n",
       "\n",
       "    .dataframe tbody tr th {\n",
       "        vertical-align: top;\n",
       "    }\n",
       "\n",
       "    .dataframe thead th {\n",
       "        text-align: right;\n",
       "    }\n",
       "</style>\n",
       "<table border=\"1\" class=\"dataframe\">\n",
       "  <thead>\n",
       "    <tr style=\"text-align: right;\">\n",
       "      <th></th>\n",
       "      <th>start</th>\n",
       "      <th>end</th>\n",
       "      <th>label</th>\n",
       "    </tr>\n",
       "  </thead>\n",
       "  <tbody>\n",
       "    <tr>\n",
       "      <th>0</th>\n",
       "      <td>1463621258957000000</td>\n",
       "      <td>1463621308597000000</td>\n",
       "      <td>Escalator</td>\n",
       "    </tr>\n",
       "    <tr>\n",
       "      <th>1</th>\n",
       "      <td>1463621312702000000</td>\n",
       "      <td>1463621348001000000</td>\n",
       "      <td>Walking</td>\n",
       "    </tr>\n",
       "    <tr>\n",
       "      <th>2</th>\n",
       "      <td>1463621364015000000</td>\n",
       "      <td>1463621389006000000</td>\n",
       "      <td>Elevator</td>\n",
       "    </tr>\n",
       "    <tr>\n",
       "      <th>3</th>\n",
       "      <td>1463621400105000000</td>\n",
       "      <td>1463621423333000000</td>\n",
       "      <td>Walking</td>\n",
       "    </tr>\n",
       "  </tbody>\n",
       "</table>\n",
       "</div>"
      ],
      "text/plain": [
       "                 start                  end      label\n",
       "0  1463621258957000000  1463621308597000000  Escalator\n",
       "1  1463621312702000000  1463621348001000000    Walking\n",
       "2  1463621364015000000  1463621389006000000   Elevator\n",
       "3  1463621400105000000  1463621423333000000    Walking"
      ]
     },
     "execution_count": 32,
     "metadata": {},
     "output_type": "execute_result"
    }
   ],
   "source": [
    "md_4 = pd.read_csv('/Users/tahiyachowdhury/Desktop/practicepython/Datasets/Elevator-Escalator/csv-segments/Interval Labels/0_IntervalLabel-352622063881655_1463621309816.csv', usecols = ['start', 'end', 'label'])\n",
    "md_4.head()"
   ]
  },
  {
   "cell_type": "code",
   "execution_count": 38,
   "metadata": {},
   "outputs": [
    {
     "data": {
      "text/html": [
       "<div>\n",
       "<style scoped>\n",
       "    .dataframe tbody tr th:only-of-type {\n",
       "        vertical-align: middle;\n",
       "    }\n",
       "\n",
       "    .dataframe tbody tr th {\n",
       "        vertical-align: top;\n",
       "    }\n",
       "\n",
       "    .dataframe thead th {\n",
       "        text-align: right;\n",
       "    }\n",
       "</style>\n",
       "<table border=\"1\" class=\"dataframe\">\n",
       "  <thead>\n",
       "    <tr style=\"text-align: right;\">\n",
       "      <th></th>\n",
       "      <th>start</th>\n",
       "      <th>end</th>\n",
       "      <th>label</th>\n",
       "    </tr>\n",
       "  </thead>\n",
       "  <tbody>\n",
       "    <tr>\n",
       "      <th>0</th>\n",
       "      <td>1463621432397000000</td>\n",
       "      <td>1463621446497000000</td>\n",
       "      <td>Elevator</td>\n",
       "    </tr>\n",
       "    <tr>\n",
       "      <th>1</th>\n",
       "      <td>1463621455568000000</td>\n",
       "      <td>1463621488346000000</td>\n",
       "      <td>Walking</td>\n",
       "    </tr>\n",
       "    <tr>\n",
       "      <th>2</th>\n",
       "      <td>1463621503513000000</td>\n",
       "      <td>1463621549968000000</td>\n",
       "      <td>Escalator</td>\n",
       "    </tr>\n",
       "  </tbody>\n",
       "</table>\n",
       "</div>"
      ],
      "text/plain": [
       "                 start                  end      label\n",
       "0  1463621432397000000  1463621446497000000   Elevator\n",
       "1  1463621455568000000  1463621488346000000    Walking\n",
       "2  1463621503513000000  1463621549968000000  Escalator"
      ]
     },
     "execution_count": 38,
     "metadata": {},
     "output_type": "execute_result"
    }
   ],
   "source": [
    "md_5 = pd.read_csv('/Users/tahiyachowdhury/Desktop/practicepython/Datasets/Elevator-Escalator/csv-segments/Interval Labels/0_IntervalLabel-352622063881655_1463621449792.csv', usecols = ['start', 'end', 'label'])\n",
    "md_5.head()"
   ]
  },
  {
   "cell_type": "code",
   "execution_count": 33,
   "metadata": {},
   "outputs": [
    {
     "data": {
      "text/html": [
       "<div>\n",
       "<style scoped>\n",
       "    .dataframe tbody tr th:only-of-type {\n",
       "        vertical-align: middle;\n",
       "    }\n",
       "\n",
       "    .dataframe tbody tr th {\n",
       "        vertical-align: top;\n",
       "    }\n",
       "\n",
       "    .dataframe thead th {\n",
       "        text-align: right;\n",
       "    }\n",
       "</style>\n",
       "<table border=\"1\" class=\"dataframe\">\n",
       "  <thead>\n",
       "    <tr style=\"text-align: right;\">\n",
       "      <th></th>\n",
       "      <th>start</th>\n",
       "      <th>end</th>\n",
       "      <th>label</th>\n",
       "    </tr>\n",
       "  </thead>\n",
       "  <tbody>\n",
       "    <tr>\n",
       "      <th>0</th>\n",
       "      <td>1463621553785000000</td>\n",
       "      <td>1463621563833000000</td>\n",
       "      <td>Walking</td>\n",
       "    </tr>\n",
       "    <tr>\n",
       "      <th>1</th>\n",
       "      <td>1463621566726000000</td>\n",
       "      <td>1463621614141000000</td>\n",
       "      <td>Escalator</td>\n",
       "    </tr>\n",
       "    <tr>\n",
       "      <th>2</th>\n",
       "      <td>1463621618769000000</td>\n",
       "      <td>1463621670804000000</td>\n",
       "      <td>Walking</td>\n",
       "    </tr>\n",
       "    <tr>\n",
       "      <th>3</th>\n",
       "      <td>1463621688928000000</td>\n",
       "      <td>1463621722754000000</td>\n",
       "      <td>Elevator</td>\n",
       "    </tr>\n",
       "  </tbody>\n",
       "</table>\n",
       "</div>"
      ],
      "text/plain": [
       "                 start                  end      label\n",
       "0  1463621553785000000  1463621563833000000    Walking\n",
       "1  1463621566726000000  1463621614141000000  Escalator\n",
       "2  1463621618769000000  1463621670804000000    Walking\n",
       "3  1463621688928000000  1463621722754000000   Elevator"
      ]
     },
     "execution_count": 33,
     "metadata": {},
     "output_type": "execute_result"
    }
   ],
   "source": [
    "md_6 = pd.read_csv('/Users/tahiyachowdhury/Desktop/practicepython/Datasets/Elevator-Escalator/csv-segments/Interval Labels/0_IntervalLabel-352622063881655_1463621615615.csv', usecols = ['start', 'end', 'label'])\n",
    "md_6.head()"
   ]
  },
  {
   "cell_type": "code",
   "execution_count": 34,
   "metadata": {},
   "outputs": [
    {
     "data": {
      "text/html": [
       "<div>\n",
       "<style scoped>\n",
       "    .dataframe tbody tr th:only-of-type {\n",
       "        vertical-align: middle;\n",
       "    }\n",
       "\n",
       "    .dataframe tbody tr th {\n",
       "        vertical-align: top;\n",
       "    }\n",
       "\n",
       "    .dataframe thead th {\n",
       "        text-align: right;\n",
       "    }\n",
       "</style>\n",
       "<table border=\"1\" class=\"dataframe\">\n",
       "  <thead>\n",
       "    <tr style=\"text-align: right;\">\n",
       "      <th></th>\n",
       "      <th>start</th>\n",
       "      <th>end</th>\n",
       "      <th>label</th>\n",
       "    </tr>\n",
       "  </thead>\n",
       "  <tbody>\n",
       "    <tr>\n",
       "      <th>0</th>\n",
       "      <td>1463621732987000000</td>\n",
       "      <td>1463621884961000000</td>\n",
       "      <td>Walking</td>\n",
       "    </tr>\n",
       "    <tr>\n",
       "      <th>1</th>\n",
       "      <td>1463621913294000000</td>\n",
       "      <td>1463621930105000000</td>\n",
       "      <td>Elevator</td>\n",
       "    </tr>\n",
       "    <tr>\n",
       "      <th>2</th>\n",
       "      <td>1463621933734000000</td>\n",
       "      <td>1463621957929000000</td>\n",
       "      <td>Walking</td>\n",
       "    </tr>\n",
       "    <tr>\n",
       "      <th>3</th>\n",
       "      <td>1463621967870000000</td>\n",
       "      <td>1463621988929000000</td>\n",
       "      <td>Elevator</td>\n",
       "    </tr>\n",
       "  </tbody>\n",
       "</table>\n",
       "</div>"
      ],
      "text/plain": [
       "                 start                  end     label\n",
       "0  1463621732987000000  1463621884961000000   Walking\n",
       "1  1463621913294000000  1463621930105000000  Elevator\n",
       "2  1463621933734000000  1463621957929000000   Walking\n",
       "3  1463621967870000000  1463621988929000000  Elevator"
      ]
     },
     "execution_count": 34,
     "metadata": {},
     "output_type": "execute_result"
    }
   ],
   "source": [
    "md_7 = pd.read_csv('/Users/tahiyachowdhury/Desktop/practicepython/Datasets/Elevator-Escalator/csv-segments/Interval Labels/0_IntervalLabel-352622063881655_1463621886880.csv', usecols = ['start', 'end', 'label'])\n",
    "md_7.head()"
   ]
  },
  {
   "cell_type": "code",
   "execution_count": 35,
   "metadata": {},
   "outputs": [
    {
     "data": {
      "text/html": [
       "<div>\n",
       "<style scoped>\n",
       "    .dataframe tbody tr th:only-of-type {\n",
       "        vertical-align: middle;\n",
       "    }\n",
       "\n",
       "    .dataframe tbody tr th {\n",
       "        vertical-align: top;\n",
       "    }\n",
       "\n",
       "    .dataframe thead th {\n",
       "        text-align: right;\n",
       "    }\n",
       "</style>\n",
       "<table border=\"1\" class=\"dataframe\">\n",
       "  <thead>\n",
       "    <tr style=\"text-align: right;\">\n",
       "      <th></th>\n",
       "      <th>start</th>\n",
       "      <th>end</th>\n",
       "      <th>label</th>\n",
       "    </tr>\n",
       "  </thead>\n",
       "  <tbody>\n",
       "    <tr>\n",
       "      <th>0</th>\n",
       "      <td>1463621992025000000</td>\n",
       "      <td>1463622056529000000</td>\n",
       "      <td>Walking</td>\n",
       "    </tr>\n",
       "  </tbody>\n",
       "</table>\n",
       "</div>"
      ],
      "text/plain": [
       "                 start                  end    label\n",
       "0  1463621992025000000  1463622056529000000  Walking"
      ]
     },
     "execution_count": 35,
     "metadata": {},
     "output_type": "execute_result"
    }
   ],
   "source": [
    "md_8 = pd.read_csv('/Users/tahiyachowdhury/Desktop/practicepython/Datasets/Elevator-Escalator/csv-segments/Interval Labels/0_IntervalLabel-352622063881655_1463622057542.csv', usecols = ['start', 'end', 'label'])\n",
    "md_8.head()"
   ]
  },
  {
   "cell_type": "code",
   "execution_count": 36,
   "metadata": {},
   "outputs": [
    {
     "data": {
      "text/html": [
       "<div>\n",
       "<style scoped>\n",
       "    .dataframe tbody tr th:only-of-type {\n",
       "        vertical-align: middle;\n",
       "    }\n",
       "\n",
       "    .dataframe tbody tr th {\n",
       "        vertical-align: top;\n",
       "    }\n",
       "\n",
       "    .dataframe thead th {\n",
       "        text-align: right;\n",
       "    }\n",
       "</style>\n",
       "<table border=\"1\" class=\"dataframe\">\n",
       "  <thead>\n",
       "    <tr style=\"text-align: right;\">\n",
       "      <th></th>\n",
       "      <th>start</th>\n",
       "      <th>end</th>\n",
       "      <th>label</th>\n",
       "    </tr>\n",
       "  </thead>\n",
       "  <tbody>\n",
       "    <tr>\n",
       "      <th>0</th>\n",
       "      <td>1463622061129000000</td>\n",
       "      <td>1463622289900000000</td>\n",
       "      <td>Standing</td>\n",
       "    </tr>\n",
       "  </tbody>\n",
       "</table>\n",
       "</div>"
      ],
      "text/plain": [
       "                 start                  end     label\n",
       "0  1463622061129000000  1463622289900000000  Standing"
      ]
     },
     "execution_count": 36,
     "metadata": {},
     "output_type": "execute_result"
    }
   ],
   "source": [
    "md_9 = pd.read_csv('/Users/tahiyachowdhury/Desktop/practicepython/Datasets/Elevator-Escalator/csv-segments/Interval Labels/0_IntervalLabel-352622063881655_1463622291046.csv', usecols = ['start', 'end', 'label'])\n",
    "md_9.head()"
   ]
  },
  {
   "cell_type": "code",
   "execution_count": 39,
   "metadata": {},
   "outputs": [],
   "source": [
    "frames = [md_1, md_2, md_3, md_4, md_5, md_6, md_7, md_8, md_9]\n",
    "labels = pd.concat(frames, axis = 0, ignore_index='False')"
   ]
  },
  {
   "cell_type": "code",
   "execution_count": 40,
   "metadata": {},
   "outputs": [
    {
     "data": {
      "text/plain": [
       "array([[1463620829317000000, 1463620884043000000, 'Standing'],\n",
       "       [1463620762596000000, 1463620826401000000, 'Walking'],\n",
       "       [1463620891851000000, 1463620917543000000, 'Walking'],\n",
       "       [1463620924518000000, 1463620972530000000, 'Escalator'],\n",
       "       [1463620976355000000, 1463620987050000000, 'Walking'],\n",
       "       [1463620990714000000, 1463621041241000000, 'Escalator'],\n",
       "       [1463621049526000000, 1463621098256000000, 'Escalator'],\n",
       "       [1463621102441000000, 1463621116493000000, 'Walking'],\n",
       "       [1463621119494000000, 1463621167984000000, 'Escalator'],\n",
       "       [1463621171675000000, 1463621188372000000, 'Walking'],\n",
       "       [1463621191659000000, 1463621239025000000, 'Escalator'],\n",
       "       [1463621243056000000, 1463621255284000000, 'Walking'],\n",
       "       [1463621258957000000, 1463621308597000000, 'Escalator'],\n",
       "       [1463621312702000000, 1463621348001000000, 'Walking'],\n",
       "       [1463621364015000000, 1463621389006000000, 'Elevator'],\n",
       "       [1463621400105000000, 1463621423333000000, 'Walking'],\n",
       "       [1463621432397000000, 1463621446497000000, 'Elevator'],\n",
       "       [1463621455568000000, 1463621488346000000, 'Walking'],\n",
       "       [1463621503513000000, 1463621549968000000, 'Escalator'],\n",
       "       [1463621553785000000, 1463621563833000000, 'Walking'],\n",
       "       [1463621566726000000, 1463621614141000000, 'Escalator'],\n",
       "       [1463621618769000000, 1463621670804000000, 'Walking'],\n",
       "       [1463621688928000000, 1463621722754000000, 'Elevator'],\n",
       "       [1463621732987000000, 1463621884961000000, 'Walking'],\n",
       "       [1463621913294000000, 1463621930105000000, 'Elevator'],\n",
       "       [1463621933734000000, 1463621957929000000, 'Walking'],\n",
       "       [1463621967870000000, 1463621988929000000, 'Elevator'],\n",
       "       [1463621992025000000, 1463622056529000000, 'Walking'],\n",
       "       [1463622061129000000, 1463622289900000000, 'Standing']],\n",
       "      dtype=object)"
      ]
     },
     "execution_count": 40,
     "metadata": {},
     "output_type": "execute_result"
    }
   ],
   "source": [
    "labels.values"
   ]
  },
  {
   "cell_type": "code",
   "execution_count": null,
   "metadata": {},
   "outputs": [],
   "source": []
  }
 ],
 "metadata": {
  "kernelspec": {
   "display_name": "Python 3",
   "language": "python",
   "name": "python3"
  },
  "language_info": {
   "codemirror_mode": {
    "name": "ipython",
    "version": 3
   },
   "file_extension": ".py",
   "mimetype": "text/x-python",
   "name": "python",
   "nbconvert_exporter": "python",
   "pygments_lexer": "ipython3",
   "version": "3.5.2"
  }
 },
 "nbformat": 4,
 "nbformat_minor": 2
}
